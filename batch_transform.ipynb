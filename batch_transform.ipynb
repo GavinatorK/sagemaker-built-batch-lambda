{
 "cells": [
  {
   "cell_type": "markdown",
   "metadata": {},
   "source": [
    "## Batch Inference\n",
    "we will do batch inference using a model that has been trained. there are a couple of ways we can do this.\n",
    "\n",
    "1. Continue in the training notebook right after training (easy but not practical)\n",
    "2. The way we see below, more practical and transalatable to production"
   ]
  },
  {
   "cell_type": "code",
   "execution_count": 11,
   "metadata": {},
   "outputs": [],
   "source": [
    "import boto3\n",
    "import botocore\n",
    "import sagemaker\n",
    "import sys\n",
    "import pandas as pd\n",
    "\n",
    "\n",
    "bucket = sagemaker.Session().default_bucket()  # Feel free to change to another bucket you have access to\n",
    "execution_role = sagemaker.get_execution_role()\n",
    "region = boto3.Session().region_name\n"
   ]
  },
  {
   "cell_type": "code",
   "execution_count": 3,
   "metadata": {},
   "outputs": [],
   "source": [
    "model_name='randomcutforest-2022-03-09-06-12-21-577'"
   ]
  },
  {
   "cell_type": "code",
   "execution_count": 6,
   "metadata": {},
   "outputs": [],
   "source": [
    "prefix=\"input\"\n",
    "fileName=\"values_and_others.csv\""
   ]
  },
  {
   "cell_type": "markdown",
   "metadata": {},
   "source": [
    "https://docs.aws.amazon.com/sagemaker/latest/dg/batch-transform-data-processing.html#batch-transform-data-processing-example-select-csv"
   ]
  },
  {
   "cell_type": "code",
   "execution_count": 8,
   "metadata": {
    "collapsed": true,
    "jupyter": {
     "outputs_hidden": true
    }
   },
   "outputs": [
    {
     "name": "stdout",
     "output_type": "stream",
     "text": [
      "....................................\u001b[34mDocker entrypoint called with argument(s): serve\u001b[0m\n",
      "\u001b[34mRunning default environment configuration script\u001b[0m\n",
      "\u001b[34m[03/09/2022 06:38:55 INFO 140392454883136] loaded entry point class algorithm.serve.server_config:config_api\u001b[0m\n",
      "\u001b[34m[03/09/2022 06:38:55 INFO 140392454883136] loading entry points\u001b[0m\n",
      "\u001b[34m[03/09/2022 06:38:55 INFO 140392454883136] Loaded iterator creator application/x-recordio-protobuf for content type ('application/x-recordio-protobuf', '1.0')\u001b[0m\n",
      "\u001b[34m[03/09/2022 06:38:55 INFO 140392454883136] loaded request iterator application/json\u001b[0m\n",
      "\u001b[34m[03/09/2022 06:38:55 INFO 140392454883136] loaded request iterator application/jsonlines\u001b[0m\n",
      "\u001b[34m[03/09/2022 06:38:55 INFO 140392454883136] loaded request iterator application/x-recordio-protobuf\u001b[0m\n",
      "\u001b[34m[03/09/2022 06:38:55 INFO 140392454883136] loaded request iterator text/csv\u001b[0m\n",
      "\u001b[34m[03/09/2022 06:38:55 INFO 140392454883136] loaded response encoder application/json\u001b[0m\n",
      "\u001b[34m[03/09/2022 06:38:55 INFO 140392454883136] loaded response encoder application/jsonlines\u001b[0m\n",
      "\u001b[34m[03/09/2022 06:38:55 INFO 140392454883136] loaded response encoder application/x-recordio-protobuf\u001b[0m\n",
      "\u001b[34m[03/09/2022 06:38:55 INFO 140392454883136] loaded response encoder text/csv\u001b[0m\n",
      "\u001b[34m[03/09/2022 06:38:55 INFO 140392454883136] loaded entry point class algorithm:model\u001b[0m\n",
      "\u001b[34m[03/09/2022 06:38:55 INFO 140392454883136] Loaded iterator creator application/x-recordio-protobuf for content type ('application/x-recordio-protobuf', '1.0')\u001b[0m\n",
      "\u001b[34m[03/09/2022 06:38:55 INFO 140392454883136] Number of server workers: 1\u001b[0m\n",
      "\u001b[34m[03/09/2022 06:38:55 INFO 140392454883136] loading model...\u001b[0m\n",
      "\u001b[34m[03/09/2022 06:38:55 INFO 140392454883136] Random Cut Forest model loaded.\u001b[0m\n",
      "\u001b[34mForestInfo{num_trees: 50, num_samples_in_forest: 25600, num_samples_per_tree: 512, sample_dim: 1, shingle_size: 1, trees_num_nodes: [353, 359, 349, 339, 357, 361, 359, 363, 373, 373, 355, 371, 363, 337, 359, 361, 371, 327, 361, 357, 361, 353, 349, 369, 357, 361, 365, 363, 345, 369, 345, 361, 353, 343, 357, 349, 337, 341, 365, 365, 359, 349, 359, 337, 355, 353, 345, 361, 361, 363, ], trees_depth: [15, 15, 18, 14, 14, 17, 19, 17, 18, 22, 15, 20, 17, 17, 19, 15, 16, 17, 21, 19, 15, 16, 17, 19, 17, 17, 16, 15, 19, 20, 14, 22, 16, 19, 14, 14, 14, 16, 15, 19, 16, 20, 17, 16, 22, 15, 18, 18, 22, 18, ], max_num_nodes: 373, min_num_nodes: 327, avg_num_nodes: 355, max_tree_depth: 22, min_tree_depth: 14, avg_tree_depth: 17, mem_size: 1851440}\u001b[0m\n",
      "\u001b[34m#metrics {\"StartTime\": 1646807935.2697906, \"EndTime\": 1646807935.7922683, \"Dimensions\": {}, \"Metrics\": {\"model.bytes\": {\"sum\": 1851440.0, \"count\": 1, \"min\": 1851440, \"max\": 1851440}, \"deserialize_model.time\": {\"sum\": 45.61805725097656, \"count\": 1, \"min\": 45.61805725097656, \"max\": 45.61805725097656}}}\u001b[0m\n",
      "\u001b[34m[03/09/2022 06:38:55 INFO 140392454883136] ...model loaded.\u001b[0m\n",
      "\u001b[34m[2022-03-09 06:38:55 +0000] [1] [INFO] Starting gunicorn 20.1.0\u001b[0m\n",
      "\u001b[34m[2022-03-09 06:38:55 +0000] [1] [INFO] Listening at: http://0.0.0.0:8080 (1)\u001b[0m\n",
      "\u001b[34m[2022-03-09 06:38:55 +0000] [1] [INFO] Using worker: sync\u001b[0m\n",
      "\u001b[34m[2022-03-09 06:38:55 +0000] [43] [INFO] Booting worker with pid: 43\u001b[0m\n",
      "\u001b[34m#metrics {\"StartTime\": 1646807935.7925868, \"EndTime\": 1646807937.3435035, \"Dimensions\": {\"Algorithm\": \"RandomCutForestModel\", \"Host\": \"UNKNOWN\", \"Operation\": \"scoring\"}, \"Metrics\": {\"execution_parameters.count\": {\"sum\": 1.0, \"count\": 1, \"min\": 1, \"max\": 1}}}\u001b[0m\n",
      "\u001b[34m#metrics {\"StartTime\": 1646807937.3436658, \"EndTime\": 1646807939.7369115, \"Dimensions\": {\"Algorithm\": \"RandomCutForestModel\", \"Host\": \"UNKNOWN\", \"Operation\": \"scoring\"}, \"Metrics\": {\"evaluate.time\": {\"sum\": 1292.6223278045654, \"count\": 1, \"min\": 1292.6223278045654, \"max\": 1292.6223278045654}}}\u001b[0m\n",
      "\u001b[34m#metrics {\"StartTime\": 1646807939.7370238, \"EndTime\": 1646807939.9461522, \"Dimensions\": {\"Algorithm\": \"RandomCutForestModel\", \"Host\": \"UNKNOWN\", \"Operation\": \"scoring\"}, \"Metrics\": {\"csv.encoder.time\": {\"sum\": 206.75063133239746, \"count\": 1, \"min\": 206.75063133239746, \"max\": 206.75063133239746}, \"invocations.count\": {\"sum\": 1.0, \"count\": 1, \"min\": 1, \"max\": 1}}}\u001b[0m\n",
      "\u001b[32m2022-03-09T06:38:57.348:[sagemaker logs]: MaxConcurrentTransforms=1, MaxPayloadInMB=6, BatchStrategy=MULTI_RECORD\u001b[0m\n",
      "\n",
      "\u001b[34mDocker entrypoint called with argument(s): serve\u001b[0m\n",
      "\u001b[34mRunning default environment configuration script\u001b[0m\n",
      "\u001b[35mDocker entrypoint called with argument(s): serve\u001b[0m\n",
      "\u001b[35mRunning default environment configuration script\u001b[0m\n",
      "\u001b[34m[03/09/2022 06:38:55 INFO 140392454883136] loaded entry point class algorithm.serve.server_config:config_api\u001b[0m\n",
      "\u001b[34m[03/09/2022 06:38:55 INFO 140392454883136] loading entry points\u001b[0m\n",
      "\u001b[34m[03/09/2022 06:38:55 INFO 140392454883136] Loaded iterator creator application/x-recordio-protobuf for content type ('application/x-recordio-protobuf', '1.0')\u001b[0m\n",
      "\u001b[34m[03/09/2022 06:38:55 INFO 140392454883136] loaded request iterator application/json\u001b[0m\n",
      "\u001b[34m[03/09/2022 06:38:55 INFO 140392454883136] loaded request iterator application/jsonlines\u001b[0m\n",
      "\u001b[34m[03/09/2022 06:38:55 INFO 140392454883136] loaded request iterator application/x-recordio-protobuf\u001b[0m\n",
      "\u001b[34m[03/09/2022 06:38:55 INFO 140392454883136] loaded request iterator text/csv\u001b[0m\n",
      "\u001b[34m[03/09/2022 06:38:55 INFO 140392454883136] loaded response encoder application/json\u001b[0m\n",
      "\u001b[34m[03/09/2022 06:38:55 INFO 140392454883136] loaded response encoder application/jsonlines\u001b[0m\n",
      "\u001b[34m[03/09/2022 06:38:55 INFO 140392454883136] loaded response encoder application/x-recordio-protobuf\u001b[0m\n",
      "\u001b[34m[03/09/2022 06:38:55 INFO 140392454883136] loaded response encoder text/csv\u001b[0m\n",
      "\u001b[34m[03/09/2022 06:38:55 INFO 140392454883136] loaded entry point class algorithm:model\u001b[0m\n",
      "\u001b[34m[03/09/2022 06:38:55 INFO 140392454883136] Loaded iterator creator application/x-recordio-protobuf for content type ('application/x-recordio-protobuf', '1.0')\u001b[0m\n",
      "\u001b[35m[03/09/2022 06:38:55 INFO 140392454883136] loaded entry point class algorithm.serve.server_config:config_api\u001b[0m\n",
      "\u001b[35m[03/09/2022 06:38:55 INFO 140392454883136] loading entry points\u001b[0m\n",
      "\u001b[35m[03/09/2022 06:38:55 INFO 140392454883136] Loaded iterator creator application/x-recordio-protobuf for content type ('application/x-recordio-protobuf', '1.0')\u001b[0m\n",
      "\u001b[35m[03/09/2022 06:38:55 INFO 140392454883136] loaded request iterator application/json\u001b[0m\n",
      "\u001b[35m[03/09/2022 06:38:55 INFO 140392454883136] loaded request iterator application/jsonlines\u001b[0m\n",
      "\u001b[35m[03/09/2022 06:38:55 INFO 140392454883136] loaded request iterator application/x-recordio-protobuf\u001b[0m\n",
      "\u001b[35m[03/09/2022 06:38:55 INFO 140392454883136] loaded request iterator text/csv\u001b[0m\n",
      "\u001b[35m[03/09/2022 06:38:55 INFO 140392454883136] loaded response encoder application/json\u001b[0m\n",
      "\u001b[35m[03/09/2022 06:38:55 INFO 140392454883136] loaded response encoder application/jsonlines\u001b[0m\n",
      "\u001b[35m[03/09/2022 06:38:55 INFO 140392454883136] loaded response encoder application/x-recordio-protobuf\u001b[0m\n",
      "\u001b[35m[03/09/2022 06:38:55 INFO 140392454883136] loaded response encoder text/csv\u001b[0m\n",
      "\u001b[35m[03/09/2022 06:38:55 INFO 140392454883136] loaded entry point class algorithm:model\u001b[0m\n",
      "\u001b[35m[03/09/2022 06:38:55 INFO 140392454883136] Loaded iterator creator application/x-recordio-protobuf for content type ('application/x-recordio-protobuf', '1.0')\u001b[0m\n",
      "\u001b[34m[03/09/2022 06:38:55 INFO 140392454883136] Number of server workers: 1\u001b[0m\n",
      "\u001b[34m[03/09/2022 06:38:55 INFO 140392454883136] loading model...\u001b[0m\n",
      "\u001b[34m[03/09/2022 06:38:55 INFO 140392454883136] Random Cut Forest model loaded.\u001b[0m\n",
      "\u001b[34mForestInfo{num_trees: 50, num_samples_in_forest: 25600, num_samples_per_tree: 512, sample_dim: 1, shingle_size: 1, trees_num_nodes: [353, 359, 349, 339, 357, 361, 359, 363, 373, 373, 355, 371, 363, 337, 359, 361, 371, 327, 361, 357, 361, 353, 349, 369, 357, 361, 365, 363, 345, 369, 345, 361, 353, 343, 357, 349, 337, 341, 365, 365, 359, 349, 359, 337, 355, 353, 345, 361, 361, 363, ], trees_depth: [15, 15, 18, 14, 14, 17, 19, 17, 18, 22, 15, 20, 17, 17, 19, 15, 16, 17, 21, 19, 15, 16, 17, 19, 17, 17, 16, 15, 19, 20, 14, 22, 16, 19, 14, 14, 14, 16, 15, 19, 16, 20, 17, 16, 22, 15, 18, 18, 22, 18, ], max_num_nodes: 373, min_num_nodes: 327, avg_num_nodes: 355, max_tree_depth: 22, min_tree_depth: 14, avg_tree_depth: 17, mem_size: 1851440}\u001b[0m\n",
      "\u001b[34m#metrics {\"StartTime\": 1646807935.2697906, \"EndTime\": 1646807935.7922683, \"Dimensions\": {}, \"Metrics\": {\"model.bytes\": {\"sum\": 1851440.0, \"count\": 1, \"min\": 1851440, \"max\": 1851440}, \"deserialize_model.time\": {\"sum\": 45.61805725097656, \"count\": 1, \"min\": 45.61805725097656, \"max\": 45.61805725097656}}}\u001b[0m\n",
      "\u001b[34m[03/09/2022 06:38:55 INFO 140392454883136] ...model loaded.\u001b[0m\n",
      "\u001b[34m[2022-03-09 06:38:55 +0000] [1] [INFO] Starting gunicorn 20.1.0\u001b[0m\n",
      "\u001b[34m[2022-03-09 06:38:55 +0000] [1] [INFO] Listening at: http://0.0.0.0:8080 (1)\u001b[0m\n",
      "\u001b[34m[2022-03-09 06:38:55 +0000] [1] [INFO] Using worker: sync\u001b[0m\n",
      "\u001b[34m[2022-03-09 06:38:55 +0000] [43] [INFO] Booting worker with pid: 43\u001b[0m\n",
      "\u001b[35m[03/09/2022 06:38:55 INFO 140392454883136] Number of server workers: 1\u001b[0m\n",
      "\u001b[35m[03/09/2022 06:38:55 INFO 140392454883136] loading model...\u001b[0m\n",
      "\u001b[35m[03/09/2022 06:38:55 INFO 140392454883136] Random Cut Forest model loaded.\u001b[0m\n",
      "\u001b[35mForestInfo{num_trees: 50, num_samples_in_forest: 25600, num_samples_per_tree: 512, sample_dim: 1, shingle_size: 1, trees_num_nodes: [353, 359, 349, 339, 357, 361, 359, 363, 373, 373, 355, 371, 363, 337, 359, 361, 371, 327, 361, 357, 361, 353, 349, 369, 357, 361, 365, 363, 345, 369, 345, 361, 353, 343, 357, 349, 337, 341, 365, 365, 359, 349, 359, 337, 355, 353, 345, 361, 361, 363, ], trees_depth: [15, 15, 18, 14, 14, 17, 19, 17, 18, 22, 15, 20, 17, 17, 19, 15, 16, 17, 21, 19, 15, 16, 17, 19, 17, 17, 16, 15, 19, 20, 14, 22, 16, 19, 14, 14, 14, 16, 15, 19, 16, 20, 17, 16, 22, 15, 18, 18, 22, 18, ], max_num_nodes: 373, min_num_nodes: 327, avg_num_nodes: 355, max_tree_depth: 22, min_tree_depth: 14, avg_tree_depth: 17, mem_size: 1851440}\u001b[0m\n",
      "\u001b[35m#metrics {\"StartTime\": 1646807935.2697906, \"EndTime\": 1646807935.7922683, \"Dimensions\": {}, \"Metrics\": {\"model.bytes\": {\"sum\": 1851440.0, \"count\": 1, \"min\": 1851440, \"max\": 1851440}, \"deserialize_model.time\": {\"sum\": 45.61805725097656, \"count\": 1, \"min\": 45.61805725097656, \"max\": 45.61805725097656}}}\u001b[0m\n",
      "\u001b[35m[03/09/2022 06:38:55 INFO 140392454883136] ...model loaded.\u001b[0m\n",
      "\u001b[35m[2022-03-09 06:38:55 +0000] [1] [INFO] Starting gunicorn 20.1.0\u001b[0m\n",
      "\u001b[35m[2022-03-09 06:38:55 +0000] [1] [INFO] Listening at: http://0.0.0.0:8080 (1)\u001b[0m\n",
      "\u001b[35m[2022-03-09 06:38:55 +0000] [1] [INFO] Using worker: sync\u001b[0m\n",
      "\u001b[35m[2022-03-09 06:38:55 +0000] [43] [INFO] Booting worker with pid: 43\u001b[0m\n",
      "\u001b[34m#metrics {\"StartTime\": 1646807935.7925868, \"EndTime\": 1646807937.3435035, \"Dimensions\": {\"Algorithm\": \"RandomCutForestModel\", \"Host\": \"UNKNOWN\", \"Operation\": \"scoring\"}, \"Metrics\": {\"execution_parameters.count\": {\"sum\": 1.0, \"count\": 1, \"min\": 1, \"max\": 1}}}\u001b[0m\n",
      "\u001b[35m#metrics {\"StartTime\": 1646807935.7925868, \"EndTime\": 1646807937.3435035, \"Dimensions\": {\"Algorithm\": \"RandomCutForestModel\", \"Host\": \"UNKNOWN\", \"Operation\": \"scoring\"}, \"Metrics\": {\"execution_parameters.count\": {\"sum\": 1.0, \"count\": 1, \"min\": 1, \"max\": 1}}}\u001b[0m\n",
      "\u001b[34m#metrics {\"StartTime\": 1646807937.3436658, \"EndTime\": 1646807939.7369115, \"Dimensions\": {\"Algorithm\": \"RandomCutForestModel\", \"Host\": \"UNKNOWN\", \"Operation\": \"scoring\"}, \"Metrics\": {\"evaluate.time\": {\"sum\": 1292.6223278045654, \"count\": 1, \"min\": 1292.6223278045654, \"max\": 1292.6223278045654}}}\u001b[0m\n",
      "\u001b[34m#metrics {\"StartTime\": 1646807939.7370238, \"EndTime\": 1646807939.9461522, \"Dimensions\": {\"Algorithm\": \"RandomCutForestModel\", \"Host\": \"UNKNOWN\", \"Operation\": \"scoring\"}, \"Metrics\": {\"csv.encoder.time\": {\"sum\": 206.75063133239746, \"count\": 1, \"min\": 206.75063133239746, \"max\": 206.75063133239746}, \"invocations.count\": {\"sum\": 1.0, \"count\": 1, \"min\": 1, \"max\": 1}}}\u001b[0m\n",
      "\u001b[35m#metrics {\"StartTime\": 1646807937.3436658, \"EndTime\": 1646807939.7369115, \"Dimensions\": {\"Algorithm\": \"RandomCutForestModel\", \"Host\": \"UNKNOWN\", \"Operation\": \"scoring\"}, \"Metrics\": {\"evaluate.time\": {\"sum\": 1292.6223278045654, \"count\": 1, \"min\": 1292.6223278045654, \"max\": 1292.6223278045654}}}\u001b[0m\n",
      "\u001b[35m#metrics {\"StartTime\": 1646807939.7370238, \"EndTime\": 1646807939.9461522, \"Dimensions\": {\"Algorithm\": \"RandomCutForestModel\", \"Host\": \"UNKNOWN\", \"Operation\": \"scoring\"}, \"Metrics\": {\"csv.encoder.time\": {\"sum\": 206.75063133239746, \"count\": 1, \"min\": 206.75063133239746, \"max\": 206.75063133239746}, \"invocations.count\": {\"sum\": 1.0, \"count\": 1, \"min\": 1, \"max\": 1}}}\u001b[0m\n",
      "\u001b[32m2022-03-09T06:38:57.348:[sagemaker logs]: MaxConcurrentTransforms=1, MaxPayloadInMB=6, BatchStrategy=MULTI_RECORD\u001b[0m\n"
     ]
    }
   ],
   "source": [
    "batch_input ='s3://{}/{}/{}'.format(bucket, prefix, fileName) # The location of thetest dataset\n",
    "batch_output = 's3://{}/{}/batch-inference'.format(bucket, prefix) # The location to store the results of the batch transform job\n",
    "transformer = sagemaker.transformer.Transformer(model_name=model_name,instance_count=1, instance_type='ml.m4.xlarge',output_path=batch_output,assemble_with=\"Line\",accept=\"text/csv\")\n",
    "transformer.transform(data=batch_input,join_source=\"Input\",input_filter=\"$[2:2]\", data_type='S3Prefix', content_type='text/csv',split_type='Line')\n",
    "transformer.wait()"
   ]
  },
  {
   "cell_type": "markdown",
   "metadata": {},
   "source": [
    "## post processing\n",
    "\n",
    "What we are doing below is to read the output from batch inference to a dataframe, it will not have headers as we can't send it headers for batch inference, we will download, read into a dataframe and provide headers\n",
    "\n",
    "*Note: in Productions you will have a post processing step to add in headers for readability if saving as a csv in S3*"
   ]
  },
  {
   "cell_type": "code",
   "execution_count": 9,
   "metadata": {},
   "outputs": [
    {
     "name": "stdout",
     "output_type": "stream",
     "text": [
      "download: s3://sagemaker-us-east-1-240384047251/input/batch-inference/values_and_others.csv.out to ./values_and_others.csv.out\n"
     ]
    }
   ],
   "source": [
    "!aws s3 cp s3://$bucket/$prefix/batch-inference/values_and_others.csv.out ."
   ]
  },
  {
   "cell_type": "code",
   "execution_count": 12,
   "metadata": {},
   "outputs": [],
   "source": [
    "df_infer=pd.read_csv('values_and_others.csv.out', names=['timestamp','values','hour','score'])\n"
   ]
  },
  {
   "cell_type": "code",
   "execution_count": 13,
   "metadata": {},
   "outputs": [
    {
     "data": {
      "text/html": [
       "<div>\n",
       "<style scoped>\n",
       "    .dataframe tbody tr th:only-of-type {\n",
       "        vertical-align: middle;\n",
       "    }\n",
       "\n",
       "    .dataframe tbody tr th {\n",
       "        vertical-align: top;\n",
       "    }\n",
       "\n",
       "    .dataframe thead th {\n",
       "        text-align: right;\n",
       "    }\n",
       "</style>\n",
       "<table border=\"1\" class=\"dataframe\">\n",
       "  <thead>\n",
       "    <tr style=\"text-align: right;\">\n",
       "      <th></th>\n",
       "      <th>timestamp</th>\n",
       "      <th>values</th>\n",
       "      <th>hour</th>\n",
       "      <th>score</th>\n",
       "    </tr>\n",
       "  </thead>\n",
       "  <tbody>\n",
       "    <tr>\n",
       "      <th>0</th>\n",
       "      <td>2017-01-01 00:00:00</td>\n",
       "      <td>14</td>\n",
       "      <td>0</td>\n",
       "      <td>0.959243</td>\n",
       "    </tr>\n",
       "    <tr>\n",
       "      <th>1</th>\n",
       "      <td>2017-01-01 00:15:00</td>\n",
       "      <td>39</td>\n",
       "      <td>0</td>\n",
       "      <td>0.959243</td>\n",
       "    </tr>\n",
       "    <tr>\n",
       "      <th>2</th>\n",
       "      <td>2017-01-01 00:30:00</td>\n",
       "      <td>75</td>\n",
       "      <td>0</td>\n",
       "      <td>0.959243</td>\n",
       "    </tr>\n",
       "    <tr>\n",
       "      <th>3</th>\n",
       "      <td>2017-01-01 00:45:00</td>\n",
       "      <td>116</td>\n",
       "      <td>0</td>\n",
       "      <td>0.959243</td>\n",
       "    </tr>\n",
       "    <tr>\n",
       "      <th>4</th>\n",
       "      <td>2017-01-01 01:00:00</td>\n",
       "      <td>124</td>\n",
       "      <td>1</td>\n",
       "      <td>0.808368</td>\n",
       "    </tr>\n",
       "  </tbody>\n",
       "</table>\n",
       "</div>"
      ],
      "text/plain": [
       "             timestamp  values  hour     score\n",
       "0  2017-01-01 00:00:00      14     0  0.959243\n",
       "1  2017-01-01 00:15:00      39     0  0.959243\n",
       "2  2017-01-01 00:30:00      75     0  0.959243\n",
       "3  2017-01-01 00:45:00     116     0  0.959243\n",
       "4  2017-01-01 01:00:00     124     1  0.808368"
      ]
     },
     "execution_count": 13,
     "metadata": {},
     "output_type": "execute_result"
    }
   ],
   "source": [
    "df_infer.head()"
   ]
  },
  {
   "cell_type": "code",
   "execution_count": null,
   "metadata": {},
   "outputs": [],
   "source": []
  }
 ],
 "metadata": {
  "instance_type": "ml.t3.medium",
  "kernelspec": {
   "display_name": "Python 3 (Data Science)",
   "language": "python",
   "name": "python3__SAGEMAKER_INTERNAL__arn:aws:sagemaker:us-east-1:081325390199:image/datascience-1.0"
  },
  "language_info": {
   "codemirror_mode": {
    "name": "ipython",
    "version": 3
   },
   "file_extension": ".py",
   "mimetype": "text/x-python",
   "name": "python",
   "nbconvert_exporter": "python",
   "pygments_lexer": "ipython3",
   "version": "3.7.10"
  }
 },
 "nbformat": 4,
 "nbformat_minor": 4
}
